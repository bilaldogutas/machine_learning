{
 "cells": [
  {
   "cell_type": "markdown",
   "id": "a6ba239b",
   "metadata": {},
   "source": [
    "# Assignment 1: Data Preprocessing and Exploratory Data Analysis\n",
    "\n",
    "**Student Name:** Bilal Dogutas  \n",
    "**Sudetn ID:** 815304562 \n",
    "\n",
    "**Points:** 10 (8 points for Assignment + 2 points for survey)\n",
    "\n",
    "## Assignment Overview\n",
    "You will work with the \"Salary Survey\" dataset, which contains salary information and workplace characteristics from thousands of respondents. This dataset presents typical challenges found in real-world data science projects.\n",
    "\n",
    "## Dataset Information\n",
    "- **File:** `salary_survey.csv`\n",
    "- **Content:** Salary information and workplace characteristics\n"
   ]
  },
  {
   "cell_type": "markdown",
   "id": "5fe6633e",
   "metadata": {},
   "source": [
    "## Import Required Libraries\n",
    "Import all necessary libraries for data analysis, visualization, and preprocessing."
   ]
  },
  {
   "cell_type": "code",
   "execution_count": null,
   "id": "84c483ee",
   "metadata": {},
   "outputs": [],
   "source": [
    "# Import necessary libraries for data analysis and visualization\n",
    "\n"
   ]
  },
  {
   "cell_type": "markdown",
   "id": "4128371a",
   "metadata": {},
   "source": [
    "# Task 1: Data Description and Exploration (2 Points)\n",
    "\n",
    "## 1.1 Dataset Overview\n",
    "**Instructions:** \n",
    "- Load the dataset from the CSV file `salary_survey.csv`\n",
    "- Display basic statistics (shape, columns, data types)\n",
    "- Create a comprehensive data dictionary explaining each variable\n",
    "- Identify potential target variable(s) for future modeling"
   ]
  },
  {
   "cell_type": "code",
   "execution_count": null,
   "id": "a6f269d3",
   "metadata": {},
   "outputs": [],
   "source": [
    "# Load the dataset\n",
    "# TODO: Load the CSV file into a pandas DataFrame\n",
    "\n",
    "# YOUR CODE HERE:\n",
    "\n",
    "\n",
    "# Display basic information about the dataset\n",
    "# TODO: Show the shape of the dataset\n",
    "# TODO: Display column names and data types\n",
    "# TODO: Show the first few rows\n",
    "\n",
    "# YOUR CODE HERE:\n",
    "\n",
    "\n",
    "# Create basic statistics summary\n",
    "# TODO: Use describe() for numerical columns\n",
    "# TODO: Use info() to see data types and non-null counts\n",
    "\n",
    "# YOUR CODE HERE:"
   ]
  },
  {
   "cell_type": "code",
   "execution_count": null,
   "id": "656e13b2",
   "metadata": {},
   "outputs": [],
   "source": [
    "# Create a comprehensive data dictionary\n",
    "# TODO: For each column, provide a description of what it represents\n",
    "# TODO: Identify data types and possible values\n",
    "# TODO: Note any patterns or conventions in the data\n",
    "\n",
    "\n",
    "# YOUR CODE HERE:\n",
    "\n",
    "\n",
    "\n",
    "# Identify potential target variables\n",
    "# TODO: Based on the assignment context (salary survey), identify potential target variables\n",
    "# TODO: Consider which variables might be predicted in future modeling\n",
    "\n",
    "# List and justify potential target variables\n"
   ]
  },
  {
   "cell_type": "markdown",
   "id": "06088439",
   "metadata": {},
   "source": [
    "### 📝 Analysis Explanation (Task 1.1)\n",
    "**Instructions:** Write your own analysis and interpretation of the dataset overview results.\n",
    "\n",
    "**Your Analysis:**\n",
    "[Write your observations about the dataset structure, size, column types, and initial insights here]\n",
    "\n",
    "---\n",
    "\n"
   ]
  },
  {
   "cell_type": "markdown",
   "id": "ba425777",
   "metadata": {},
   "source": [
    "### 🤖 AI-Assisted Analysis (Task 1.1)\n",
    "**Instructions:** Use AI tools to help analyze the results and write additional insights.\n",
    "\n",
    "**AI-Assisted Analysis:**\n",
    "[Use AI to help interpret the dataset characteristics, suggest potential issues to investigate, and provide additional context]"
   ]
  },
  {
   "cell_type": "markdown",
   "id": "0a48c5c8",
   "metadata": {},
   "source": [
    "## 1.2 Initial Data Quality Assessment\n",
    "**Instructions:**\n",
    "- Calculate missing value percentages for each column\n",
    "- Identify potential data quality issues (outliers, inconsistencies, formatting problems)\n",
    "- Document observations about data collection methodology"
   ]
  },
  {
   "cell_type": "code",
   "execution_count": null,
   "id": "8ff76b74",
   "metadata": {},
   "outputs": [],
   "source": [
    "# Calculate missing value percentages\n",
    "# TODO: Calculate the percentage of missing values for each column\n",
    "# TODO: Sort by missing percentage to identify most problematic columns\n",
    "\n",
    "\n",
    "# YOUR CODE HERE:\n",
    "\n",
    "\n",
    "# Identify data quality issues\n",
    "# TODO: Check for duplicate rows\n",
    "# YOUR CODE HERE:\n",
    "\n",
    "\n",
    "# TODO: Identify columns with inconsistent formatting\n",
    "# YOUR CODE HERE:\n",
    "\n",
    "\n",
    "# TODO: Look for outliers in numerical columns\n",
    "# YOUR CODE HERE:\n",
    "\n",
    "\n",
    "# TODO: Check for inconsistent categorical values (e.g., different spellings)\n",
    "# YOUR CODE HERE:"
   ]
  },
  {
   "cell_type": "markdown",
   "id": "fb8f0917",
   "metadata": {},
   "source": [
    "### 📝 Analysis Explanation (Task 1.2)\n",
    "**Instructions:** Analyze the data quality assessment results.\n",
    "\n",
    "**Your Analysis:**\n",
    "[Discuss the missing value patterns, data quality issues identified, and your observations about potential data collection problems]\n",
    "\n",
    "---\n",
    "\n"
   ]
  },
  {
   "cell_type": "markdown",
   "id": "be540537",
   "metadata": {},
   "source": [
    "### 🤖 AI-Assisted Analysis (Task 1.2)\n",
    "**Instructions:** Use AI to help interpret data quality findings.\n",
    "\n",
    "**AI-Assisted Analysis:**\n",
    "[Use AI to help identify potential causes of data quality issues, suggest investigation strategies, and provide industry context for the problems found]"
   ]
  },
  {
   "cell_type": "markdown",
   "id": "db27edf8",
   "metadata": {},
   "source": [
    "# Task 2: Missing Values Analysis and Imputation (2 Points)\n",
    "\n",
    "## 2.1 Missing Data Analysis\n",
    "**Instructions:**\n",
    "- Create visualizations showing missing data patterns\n",
    "- Analyze if missing data appears random or systematic\n",
    "- Investigate relationships between missing values in different columns"
   ]
  },
  {
   "cell_type": "code",
   "execution_count": null,
   "id": "d05d2a25",
   "metadata": {},
   "outputs": [],
   "source": [
    "# Visualize missing data patterns\n",
    "# TODO: Create visualizations to understand missing data patterns\n",
    "\n",
    "# YOUR CODE HERE:\n",
    "\n",
    "\n",
    "# Create missing data bar chart\n",
    "# TODO: Show missing data counts by column\n",
    "\n",
    "# YOUR CODE HERE:\n",
    "\n",
    "\n",
    "# Create missing data heatmap showing correlations between missing values\n",
    "# TODO: Analyze if certain missing values tend to occur together\n",
    "# YOUR CODE HERE:\n",
    "\n",
    "\n",
    "# TODO: Check if missing data appears random or systematic\n",
    "# TODO: Calculate correlations between missing indicators\n",
    "# YOUR CODE HERE:"
   ]
  },
  {
   "cell_type": "markdown",
   "id": "eeffc81f",
   "metadata": {},
   "source": [
    "### 📝 Analysis Explanation (Task 2.1)\n",
    "**Your Analysis:**\n",
    "[Analyze the missing data patterns and discuss whether they appear random or systematic]\n",
    "\n",
    "---\n",
    "\n",
    "\n"
   ]
  },
  {
   "cell_type": "markdown",
   "id": "60e383cf",
   "metadata": {},
   "source": [
    "### 🤖 AI-Assisted Analysis (Task 2.1)\n",
    "**AI-Assisted Analysis:**\n",
    "[Use AI to help interpret missing data patterns and suggest potential causes]\n",
    "\n",
    "---"
   ]
  },
  {
   "cell_type": "markdown",
   "id": "f75e73dd",
   "metadata": {},
   "source": [
    "## 2.2 Missing Data Strategy\n",
    "**Instructions:** For each variable with missing data, justify your imputation strategy"
   ]
  },
  {
   "cell_type": "code",
   "execution_count": null,
   "id": "b0c274ab",
   "metadata": {},
   "outputs": [],
   "source": [
    "# Define imputation strategies for each column with missing data\n",
    "# TODO: For each column with missing values, choose appropriate imputation method\n",
    "# TODO: Consider the nature of the variable (numerical vs categorical)\n",
    "# TODO: Consider the percentage of missing values\n",
    "# TODO: Consider the relationship with other variables\n",
    "\n",
    "# YOUR CODE HERE:\n",
    "\n",
    "\n",
    "# TODO: Display imputation strategies\n",
    "\n",
    "# YOUR CODE HERE:\n"
   ]
  },
  {
   "cell_type": "markdown",
   "id": "5347831a",
   "metadata": {},
   "source": [
    "## 2.3 Implementation\n",
    "**Instructions:** Implement your chosen imputation methods and compare before/after characteristics"
   ]
  },
  {
   "cell_type": "code",
   "execution_count": null,
   "id": "42ebf29e",
   "metadata": {},
   "outputs": [],
   "source": [
    "# Create a copy of the original dataset for comparison after imputation\n",
    "\n",
    "# YOUR CODE HERE:\n",
    "\n",
    "\n",
    "# Store original statistics for comparison\n",
    "\n",
    "# YOUR CODE HERE:\n",
    "\n",
    "\n",
    "\n",
    "# Implement imputation strategies\n",
    "# TODO: Apply the imputation methods defined in the previous section\n",
    "# TODO: For numerical variables: mean, median, or advanced methods\n",
    "# TODO: For categorical variables: mode, separate category, or deletion\n",
    "\n",
    "# Example implementations:\n",
    "# Numerical imputation\n",
    "# Categorical imputation\n",
    "\n",
    "# YOUR CODE HERE:\n",
    "\n",
    "\n",
    "# Compare before and after imputation\n",
    "\n",
    "# TODO: Compare missing value counts before and after\n",
    "# YOUR CODE HERE:\n",
    "\n",
    "# TODO: Compare basic statistics before and after\n",
    "# YOUR CODE HERE:\n",
    "\n",
    "# TODO: Create visualizations showing the impact of imputation\n",
    "# YOUR CODE HERE:"
   ]
  },
  {
   "cell_type": "markdown",
   "id": "461d1822",
   "metadata": {},
   "source": [
    "### 📝 Analysis Explanation (Task 2.2 & 2.3)\n",
    "**Your Analysis:**\n",
    "[Discuss your imputation strategy choices and the impact of imputation on the dataset]\n",
    "\n",
    "---"
   ]
  },
  {
   "cell_type": "markdown",
   "id": "08339138",
   "metadata": {},
   "source": [
    "### 🤖 AI-Assisted Analysis (Task 2.2 & 2.3)\n",
    "**AI-Assisted Analysis:**\n",
    "[Use AI to help evaluate imputation strategies and their effectiveness]\n",
    "\n",
    "---"
   ]
  },
  {
   "cell_type": "markdown",
   "id": "36b96308",
   "metadata": {},
   "source": [
    "# Task 3: Correlation Analysis (1 Point)\n",
    "\n",
    "## Numerical Variable Correlations\n",
    "**Instructions:**\n",
    "- Create a correlation matrix for all numerical variables\n",
    "- Generate appropriate visualizations (heatmap, pairplots)\n",
    "- Identify the strongest positive and negative correlations"
   ]
  },
  {
   "cell_type": "code",
   "execution_count": null,
   "id": "93c93e57",
   "metadata": {},
   "outputs": [],
   "source": [
    "# Numerical variable correlation analysis\n",
    "# TODO: Select only numerical columns from the imputed dataset\n",
    "# TODO: Calculate correlation matrix\n",
    "# TODO: Create correlation heatmap\n",
    "# TODO: Identify strongest correlations\n",
    "\n",
    "# YOUR CODE HERE:\n",
    "\n",
    "\n",
    "# Find strongest correlations\n",
    "# TODO: Identify the strongest positive and negative correlations\n",
    "# YOUR CODE HERE:\n",
    "\n"
   ]
  },
  {
   "cell_type": "markdown",
   "id": "f36c4b91",
   "metadata": {},
   "source": [
    "## Categorical-Numerical Relationships\n",
    "**Instructions:** Analyze relationships between categorical and numerical variables"
   ]
  },
  {
   "cell_type": "code",
   "execution_count": null,
   "id": "0aca8c6f",
   "metadata": {},
   "outputs": [],
   "source": [
    "# Analyze categorical-numerical relationships\n",
    "# TODO: Select categorical and numerical columns\n",
    "# TODO: Create visualizations (boxplots, violin plots) showing relationships\n",
    "# TODO: Focus on salary-related relationships\n",
    "# TODO: Create visualizations for categorical-numerical relationships\n",
    "# Example: Salary by different categorical variables\n",
    "\n",
    "# YOUR CODE HERE:\n",
    "\n"
   ]
  },
  {
   "cell_type": "markdown",
   "id": "ab79051c",
   "metadata": {},
   "source": [
    "### 📝 Analysis Explanation (Task 3)\n",
    "**Your Analysis:**\n",
    "[Analyze correlation findings and categorical-numerical relationships]\n",
    "\n",
    "---\n",
    "\n",
    "\n"
   ]
  },
  {
   "cell_type": "markdown",
   "id": "7e3b66f7",
   "metadata": {},
   "source": [
    "### 🤖 AI-Assisted Analysis (Task 3)\n",
    "**AI-Assisted Analysis:**\n",
    "[Use AI to help interpret correlations and suggest potential business implications]\n",
    "\n",
    "---\n"
   ]
  },
  {
   "cell_type": "markdown",
   "id": "93794e0d",
   "metadata": {},
   "source": [
    "# Task 4: Feature Engineering (1 Point)\n",
    "\n",
    "## Create New Variables\n",
    "**Instructions:** Design and create at least 3 meaningful new features such as:\n",
    "- Experience categories\n",
    "- Industry-adjusted salary\n",
    "- Location tiers\n",
    "- Education-experience interaction\n",
    "- Remote work indicator"
   ]
  },
  {
   "cell_type": "code",
   "execution_count": null,
   "id": "ce11414b",
   "metadata": {},
   "outputs": [],
   "source": [
    "# Create new features\n",
    "# TODO: Create at least 3 meaningful new features\n",
    "# TODO: Document the rationale for each feature\n",
    "\n",
    "# YOUR CODE HERE:\n"
   ]
  },
  {
   "cell_type": "markdown",
   "id": "322970a7",
   "metadata": {},
   "source": [
    "### 📝 Analysis Explanation (Task 4)\n",
    "**Your Analysis:**\n",
    "[Explain your feature engineering choices and their business rationale]\n",
    "\n",
    "---\n",
    "\n",
    "\n"
   ]
  },
  {
   "cell_type": "markdown",
   "id": "2e4620c4",
   "metadata": {},
   "source": [
    "### 🤖 AI-Assisted Analysis (Task 4)\n",
    "**AI-Assisted Analysis:**\n",
    "[Use AI to help evaluate feature engineering effectiveness and suggest improvements]\n",
    "\n",
    "---\n"
   ]
  },
  {
   "cell_type": "markdown",
   "id": "ff3a9121",
   "metadata": {},
   "source": [
    "# Task 5: Data Transformation (1 Point)\n",
    "\n",
    "## Numerical Variable Transformations\n",
    "**Instructions:**\n",
    "- Analyze distributions of numerical variables\n",
    "- Apply appropriate transformations to improve normality\n",
    "- Handle outliers appropriately"
   ]
  },
  {
   "cell_type": "code",
   "execution_count": null,
   "id": "e1f0dc9e",
   "metadata": {},
   "outputs": [],
   "source": [
    "# Data transformation analysis\n",
    "# TODO: Analyze distributions of numerical variables\n",
    "# TODO: Apply appropriate transformations\n",
    "# TODO: Handle outliers\n",
    "\n",
    "# YOUR CODE HERE:\n"
   ]
  },
  {
   "cell_type": "markdown",
   "id": "157700d4",
   "metadata": {},
   "source": [
    "### 📝 Analysis Explanation (Task 5)\n",
    "**Your Analysis:**\n",
    "[Discuss transformation choices and their impact on data distributions]\n",
    "\n",
    "---\n",
    "\n",
    "\n"
   ]
  },
  {
   "cell_type": "markdown",
   "id": "9120eefc",
   "metadata": {},
   "source": [
    "### 🤖 AI-Assisted Analysis (Task 5)\n",
    "**AI-Assisted Analysis:**\n",
    "[Use AI to help evaluate transformation effectiveness and outlier handling strategies]\n",
    "\n",
    "---\n"
   ]
  },
  {
   "cell_type": "markdown",
   "id": "154d7fda",
   "metadata": {},
   "source": [
    "# Task 6: Categorical Variable Encoding (1 Point)\n",
    "\n",
    "## Encoding Strategy\n",
    "**Instructions:** Choose and implement appropriate encoding for each categorical variable:\n",
    "- Binary variables: Simple binary encoding\n",
    "- Ordinal variables: Label encoding preserving order\n",
    "- Nominal variables with few categories: One-hot encoding\n",
    "- High-cardinality variables: Target encoding or frequency encoding"
   ]
  },
  {
   "cell_type": "code",
   "execution_count": null,
   "id": "d080c504",
   "metadata": {},
   "outputs": [],
   "source": [
    "# Categorical variable encoding\n",
    "# TODO: Choose appropriate encoding for each categorical variable\n",
    "# TODO: Implement encoding methods\n",
    "# TODO: Compare dataset before and after encoding\n",
    "\n",
    "# YOUR CODE HERE:\n"
   ]
  },
  {
   "cell_type": "markdown",
   "id": "94626ee6",
   "metadata": {},
   "source": [
    "### 📝 Analysis Explanation (Task 6)\n",
    "**Your Analysis:**\n",
    "[Discuss encoding choices and their impact on dataset dimensions and information preservation]\n",
    "\n",
    "---\n",
    "\n",
    "### 🤖 AI-Assisted Analysis (Task 6)\n",
    "**AI-Assisted Analysis:**\n",
    "[Use AI to help evaluate encoding strategies and suggest optimizations]\n",
    "\n",
    "---\n",
    "\n"
   ]
  },
  {
   "cell_type": "markdown",
   "id": "b404edd5",
   "metadata": {},
   "source": [
    "## Survey Completion (2 Points)\n",
    "**Don't forget:** Complete the required survey for 2 additional points!\n",
    "\n",
    "**Survey Link:** [[Qualtrics Survey Please click here](https://fgcu.qualtrics.com/jfe/form/SV_efZVis4pbBj2Gh0)]\n",
    "\n",
    "---\n",
    "\n"
   ]
  }
 ],
 "metadata": {
  "language_info": {
   "name": "python"
  }
 },
 "nbformat": 4,
 "nbformat_minor": 5
}
